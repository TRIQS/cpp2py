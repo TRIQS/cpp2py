{
 "cells": [
  {
   "cell_type": "code",
   "execution_count": null,
   "metadata": {},
   "outputs": [],
   "source": [
    "%reload_ext cpp2py.magic"
   ]
  },
  {
   "cell_type": "markdown",
   "metadata": {},
   "source": [
    "# Manipulate the TRIQS Green function"
   ]
  },
  {
   "cell_type": "code",
   "execution_count": null,
   "metadata": {},
   "outputs": [],
   "source": [
    "%%cpp2py -C triqs             \n",
    "#include <triqs/gfs.hpp>\n",
    "using namespace triqs;\n",
    "using namespace triqs::gfs;\n",
    "        \n",
    "gf<imfreq> demo(double beta) {\n",
    "\n",
    " int n_freq = 1000;\n",
    "\n",
    " clef::placeholder<0> iw_;\n",
    "\n",
    " // Construction of a 1x1 matrix-valued fermionic gf on Matsubara frequencies.\n",
    " auto g_iw = gf<imfreq>{{beta, Fermion, n_freq}, {1, 1}};\n",
    "\n",
    " // Automatic placeholder evaluation\n",
    " g_iw(iw_) << 1 / (iw_ + 2);\n",
    "    \n",
    "\n",
    " // Writing the Green's functions into an HDF5 file.\n",
    " auto f = h5::file(\"gf.h5\", 'w');\n",
    " h5_write(f, \"g_iw\", g_iw);\n",
    "\n",
    " return g_iw;\n",
    "}"
   ]
  },
  {
   "cell_type": "markdown",
   "metadata": {},
   "source": [
    "Let us try it ..."
   ]
  },
  {
   "cell_type": "code",
   "execution_count": null,
   "metadata": {},
   "outputs": [],
   "source": [
    "!rm gf.h5\n",
    "g = demo(10.0)"
   ]
  },
  {
   "cell_type": "code",
   "execution_count": null,
   "metadata": {},
   "outputs": [],
   "source": [
    "!h5ls -r gf.h5"
   ]
  },
  {
   "cell_type": "code",
   "execution_count": null,
   "metadata": {
    "scrolled": true
   },
   "outputs": [],
   "source": [
    "from triqs.gf import *\n",
    "from h5 import *\n",
    "from triqs.plot.mpl_interface import oplot, oplotr\n",
    "import matplotlib.pyplot as plt\n",
    "%matplotlib inline\n",
    "#with HDFArchive(\"gf.h5\",'r') as A:  # Open file\n",
    "#  oplot(A['g_iw'], '-o')\n",
    "oplot(demo(30), '-p')\n",
    "plt.xlim(0,10)"
   ]
  }
 ],
 "metadata": {
  "kernelspec": {
   "display_name": "Python 3",
   "language": "python",
   "name": "python3"
  },
  "language_info": {
   "codemirror_mode": {
    "name": "ipython",
    "version": 3
   },
   "file_extension": ".py",
   "mimetype": "text/x-python",
   "name": "python",
   "nbconvert_exporter": "python",
   "pygments_lexer": "ipython3"
  },
  "latex_envs": {
   "LaTeX_envs_menu_present": true,
   "autocomplete": true,
   "bibliofile": "biblio.bib",
   "cite_by": "apalike",
   "current_citInitial": 1,
   "eqLabelWithNumbers": true,
   "eqNumInitial": 0,
   "hotkeys": {
    "equation": "Ctrl-E",
    "itemize": "Ctrl-I"
   },
   "labels_anchors": false,
   "latex_user_defs": false,
   "report_style_numbering": false,
   "user_envs_cfg": false
  },
  "nav_menu": {},
  "toc": {
   "navigate_menu": true,
   "number_sections": true,
   "sideBar": true,
   "threshold": 6,
   "toc_cell": false,
   "toc_section_display": "block",
   "toc_window_display": false
  },
  "widgets": {
   "state": {},
   "version": "1.1.2"
  }
 },
 "nbformat": 4,
 "nbformat_minor": 1
}
