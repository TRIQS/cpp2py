{
 "cells": [
  {
   "cell_type": "code",
   "execution_count": null,
   "metadata": {},
   "outputs": [],
   "source": [
    "%reload_ext cpp2py.magic"
   ]
  },
  {
   "cell_type": "code",
   "execution_count": null,
   "metadata": {
    "scrolled": false
   },
   "outputs": [],
   "source": [
    "%%cpp2py -C triqs\n",
    "\n",
    "struct params{ \n",
    " int i;\n",
    " double x=0; \n",
    " params(){}  // default \n",
    "};\n",
    "\n",
    "double f(params const & a) {\n",
    " return a.i + a.x;   \n",
    "}\n"
   ]
  },
  {
   "cell_type": "code",
   "execution_count": null,
   "metadata": {},
   "outputs": [],
   "source": [
    "p = Params()\n",
    "p.i, p.x = 1, 2.9\n",
    "print(p.i)\n",
    "print(f(p))"
   ]
  },
  {
   "cell_type": "code",
   "execution_count": null,
   "metadata": {},
   "outputs": [],
   "source": [
    "%%cpp2py -C triqs --only g\n",
    "#include <vector>\n",
    "#include <string>\n",
    "#include <cpp2py/cpp2py.hpp>\n",
    "\n",
    "struct params{ \n",
    " int i;\n",
    " double x=0;   \n",
    " double z=3;\n",
    " std::string s = \"what ?\";   \n",
    " std::vector<int> v;\n",
    "};\n",
    "\n",
    "/// g\n",
    "CPP2PY_ARG_AS_DICT\n",
    "double g(params & a) {\n",
    "  std::cout << \"s = \" << a.s << std::endl;  \n",
    "  return a.i + a.x + a.v.at(0);   \n",
    "}"
   ]
  },
  {
   "cell_type": "code",
   "execution_count": null,
   "metadata": {},
   "outputs": [],
   "source": [
    "g(i=1, x=2.9, v=[2,3], s=\"a string\")"
   ]
  }
 ],
 "metadata": {
  "kernelspec": {
   "display_name": "Python 3",
   "language": "python",
   "name": "python3"
  },
  "language_info": {
   "codemirror_mode": {
    "name": "ipython",
    "version": 3
   },
   "file_extension": ".py",
   "mimetype": "text/x-python",
   "name": "python",
   "nbconvert_exporter": "python",
   "pygments_lexer": "ipython3"
  },
  "latex_envs": {
   "LaTeX_envs_menu_present": true,
   "autocomplete": true,
   "bibliofile": "biblio.bib",
   "cite_by": "apalike",
   "current_citInitial": 1,
   "eqLabelWithNumbers": true,
   "eqNumInitial": 0,
   "hotkeys": {
    "equation": "Ctrl-E",
    "itemize": "Ctrl-I"
   },
   "labels_anchors": false,
   "latex_user_defs": false,
   "report_style_numbering": false,
   "user_envs_cfg": false
  },
  "nav_menu": {},
  "toc": {
   "navigate_menu": true,
   "number_sections": true,
   "sideBar": true,
   "threshold": 6,
   "toc_cell": false,
   "toc_section_display": "block",
   "toc_window_display": false
  },
  "widgets": {
   "state": {},
   "version": "1.1.2"
  }
 },
 "nbformat": 4,
 "nbformat_minor": 1
}
